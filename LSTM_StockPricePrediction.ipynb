{
  "nbformat": 4,
  "nbformat_minor": 0,
  "metadata": {
    "colab": {
      "name": "Untitled2.ipynb",
      "provenance": [],
      "authorship_tag": "ABX9TyPGVXEu2hY7YD5XOpJEhvHh",
      "include_colab_link": true
    },
    "kernelspec": {
      "name": "python3",
      "display_name": "Python 3"
    },
    "language_info": {
      "name": "python"
    },
    "accelerator": "GPU"
  },
  "cells": [
    {
      "cell_type": "markdown",
      "metadata": {
        "id": "view-in-github",
        "colab_type": "text"
      },
      "source": [
        "<a href=\"https://colab.research.google.com/github/MithunKiniStar/LSTM-StockPricePrediction/blob/main/LSTM_StockPricePrediction.ipynb\" target=\"_parent\"><img src=\"https://colab.research.google.com/assets/colab-badge.svg\" alt=\"Open In Colab\"/></a>"
      ]
    },
    {
      "cell_type": "markdown",
      "metadata": {
        "id": "QZ09bxdrQvWK"
      },
      "source": [
        "## Keras and Tensorflow > 2.0"
      ]
    },
    {
      "cell_type": "code",
      "metadata": {
        "id": "Us189vKQNqe5"
      },
      "source": [
        "import pandas_datareader as pdr"
      ],
      "execution_count": 2,
      "outputs": []
    },
    {
      "cell_type": "code",
      "metadata": {
        "id": "XAlwtSpsPS0e"
      },
      "source": [
        "key = '62ab16bc7c675756e484b6f72ec3e6970dfac84b'\n",
        "df = pdr.get_data_tiingo('AAPL',api_key=key)"
      ],
      "execution_count": 3,
      "outputs": []
    },
    {
      "cell_type": "code",
      "metadata": {
        "id": "bdgEF2wFQXiD"
      },
      "source": [
        "df.to_csv('AAPL.csv')"
      ],
      "execution_count": 4,
      "outputs": []
    },
    {
      "cell_type": "code",
      "metadata": {
        "id": "d9SEaekHQoS7"
      },
      "source": [
        "import pandas as pd\n"
      ],
      "execution_count": 5,
      "outputs": []
    },
    {
      "cell_type": "code",
      "metadata": {
        "id": "MyQQpkt8Q6Tu"
      },
      "source": [
        "df = pd.read_csv('AAPL.csv')"
      ],
      "execution_count": 6,
      "outputs": []
    },
    {
      "cell_type": "code",
      "metadata": {
        "colab": {
          "base_uri": "https://localhost:8080/",
          "height": 203
        },
        "id": "WKt5r-GfRHY6",
        "outputId": "1dab5984-0574-4d39-a2fd-d70bc1d0def8"
      },
      "source": [
        "df.tail()"
      ],
      "execution_count": 7,
      "outputs": [
        {
          "output_type": "execute_result",
          "data": {
            "text/html": [
              "<div>\n",
              "<style scoped>\n",
              "    .dataframe tbody tr th:only-of-type {\n",
              "        vertical-align: middle;\n",
              "    }\n",
              "\n",
              "    .dataframe tbody tr th {\n",
              "        vertical-align: top;\n",
              "    }\n",
              "\n",
              "    .dataframe thead th {\n",
              "        text-align: right;\n",
              "    }\n",
              "</style>\n",
              "<table border=\"1\" class=\"dataframe\">\n",
              "  <thead>\n",
              "    <tr style=\"text-align: right;\">\n",
              "      <th></th>\n",
              "      <th>symbol</th>\n",
              "      <th>date</th>\n",
              "      <th>close</th>\n",
              "      <th>high</th>\n",
              "      <th>low</th>\n",
              "      <th>open</th>\n",
              "      <th>volume</th>\n",
              "      <th>adjClose</th>\n",
              "      <th>adjHigh</th>\n",
              "      <th>adjLow</th>\n",
              "      <th>adjOpen</th>\n",
              "      <th>adjVolume</th>\n",
              "      <th>divCash</th>\n",
              "      <th>splitFactor</th>\n",
              "    </tr>\n",
              "  </thead>\n",
              "  <tbody>\n",
              "    <tr>\n",
              "      <th>1252</th>\n",
              "      <td>AAPL</td>\n",
              "      <td>2021-07-20 00:00:00+00:00</td>\n",
              "      <td>146.15</td>\n",
              "      <td>147.0997</td>\n",
              "      <td>142.96</td>\n",
              "      <td>143.460</td>\n",
              "      <td>96350036</td>\n",
              "      <td>146.15</td>\n",
              "      <td>147.0997</td>\n",
              "      <td>142.96</td>\n",
              "      <td>143.460</td>\n",
              "      <td>96350036</td>\n",
              "      <td>0.0</td>\n",
              "      <td>1.0</td>\n",
              "    </tr>\n",
              "    <tr>\n",
              "      <th>1253</th>\n",
              "      <td>AAPL</td>\n",
              "      <td>2021-07-21 00:00:00+00:00</td>\n",
              "      <td>145.40</td>\n",
              "      <td>146.1300</td>\n",
              "      <td>144.63</td>\n",
              "      <td>145.530</td>\n",
              "      <td>74993460</td>\n",
              "      <td>145.40</td>\n",
              "      <td>146.1300</td>\n",
              "      <td>144.63</td>\n",
              "      <td>145.530</td>\n",
              "      <td>74993460</td>\n",
              "      <td>0.0</td>\n",
              "      <td>1.0</td>\n",
              "    </tr>\n",
              "    <tr>\n",
              "      <th>1254</th>\n",
              "      <td>AAPL</td>\n",
              "      <td>2021-07-22 00:00:00+00:00</td>\n",
              "      <td>146.80</td>\n",
              "      <td>148.1950</td>\n",
              "      <td>145.81</td>\n",
              "      <td>145.935</td>\n",
              "      <td>77338156</td>\n",
              "      <td>146.80</td>\n",
              "      <td>148.1950</td>\n",
              "      <td>145.81</td>\n",
              "      <td>145.935</td>\n",
              "      <td>77338156</td>\n",
              "      <td>0.0</td>\n",
              "      <td>1.0</td>\n",
              "    </tr>\n",
              "    <tr>\n",
              "      <th>1255</th>\n",
              "      <td>AAPL</td>\n",
              "      <td>2021-07-23 00:00:00+00:00</td>\n",
              "      <td>148.56</td>\n",
              "      <td>148.7177</td>\n",
              "      <td>146.92</td>\n",
              "      <td>147.550</td>\n",
              "      <td>71447416</td>\n",
              "      <td>148.56</td>\n",
              "      <td>148.7177</td>\n",
              "      <td>146.92</td>\n",
              "      <td>147.550</td>\n",
              "      <td>71447416</td>\n",
              "      <td>0.0</td>\n",
              "      <td>1.0</td>\n",
              "    </tr>\n",
              "    <tr>\n",
              "      <th>1256</th>\n",
              "      <td>AAPL</td>\n",
              "      <td>2021-07-26 00:00:00+00:00</td>\n",
              "      <td>148.99</td>\n",
              "      <td>149.8300</td>\n",
              "      <td>147.70</td>\n",
              "      <td>148.270</td>\n",
              "      <td>72434089</td>\n",
              "      <td>148.99</td>\n",
              "      <td>149.8300</td>\n",
              "      <td>147.70</td>\n",
              "      <td>148.270</td>\n",
              "      <td>72434089</td>\n",
              "      <td>0.0</td>\n",
              "      <td>1.0</td>\n",
              "    </tr>\n",
              "  </tbody>\n",
              "</table>\n",
              "</div>"
            ],
            "text/plain": [
              "     symbol                       date   close  ...  adjVolume  divCash  splitFactor\n",
              "1252   AAPL  2021-07-20 00:00:00+00:00  146.15  ...   96350036      0.0          1.0\n",
              "1253   AAPL  2021-07-21 00:00:00+00:00  145.40  ...   74993460      0.0          1.0\n",
              "1254   AAPL  2021-07-22 00:00:00+00:00  146.80  ...   77338156      0.0          1.0\n",
              "1255   AAPL  2021-07-23 00:00:00+00:00  148.56  ...   71447416      0.0          1.0\n",
              "1256   AAPL  2021-07-26 00:00:00+00:00  148.99  ...   72434089      0.0          1.0\n",
              "\n",
              "[5 rows x 14 columns]"
            ]
          },
          "metadata": {
            "tags": []
          },
          "execution_count": 7
        }
      ]
    },
    {
      "cell_type": "code",
      "metadata": {
        "colab": {
          "base_uri": "https://localhost:8080/"
        },
        "id": "SSK79oNaRzxu",
        "outputId": "56b18101-b5db-4642-8f1c-33b5b353a689"
      },
      "source": [
        "df1 = df.reset_index()['close']\n",
        "df1.shape"
      ],
      "execution_count": 8,
      "outputs": [
        {
          "output_type": "execute_result",
          "data": {
            "text/plain": [
              "(1257,)"
            ]
          },
          "metadata": {
            "tags": []
          },
          "execution_count": 8
        }
      ]
    },
    {
      "cell_type": "code",
      "metadata": {
        "colab": {
          "base_uri": "https://localhost:8080/",
          "height": 282
        },
        "id": "Ifnzh1M-SKd0",
        "outputId": "faab38af-dbdf-453a-9ed8-6a254c0d3a12"
      },
      "source": [
        "import matplotlib.pyplot as plt\n",
        "plt.plot(df1)"
      ],
      "execution_count": 27,
      "outputs": [
        {
          "output_type": "execute_result",
          "data": {
            "text/plain": [
              "[<matplotlib.lines.Line2D at 0x7ff66e43d710>]"
            ]
          },
          "metadata": {
            "tags": []
          },
          "execution_count": 27
        },
        {
          "output_type": "display_data",
          "data": {
            "image/png": "[encoded data removed]",
            "text/plain": [
              "<Figure size 432x288 with 1 Axes>"
            ]
          },
          "metadata": {
            "tags": [],
            "needs_background": "light"
          }
        }
      ]
    },
    {
      "cell_type": "markdown",
      "metadata": {
        "id": "EoSw5sIISbXF"
      },
      "source": [
        "### LSTM are sensitive to the scale of the data, so we apply MinMax scaler"
      ]
    },
    {
      "cell_type": "code",
      "metadata": {
        "id": "pYPoyONDSYr8"
      },
      "source": [
        "import numpy as np"
      ],
      "execution_count": 9,
      "outputs": []
    },
    {
      "cell_type": "code",
      "metadata": {
        "colab": {
          "base_uri": "https://localhost:8080/"
        },
        "id": "kHJlPEakSud3",
        "outputId": "b42001dc-7612-4243-a604-680837892155"
      },
      "source": [
        "from sklearn.preprocessing import MinMaxScaler\n",
        "scaler=MinMaxScaler(feature_range=(0,1))\n",
        "df1=scaler.fit_transform(np.array(df1).reshape(-1,1))\n",
        "print(df1)\n",
        "df1.shape"
      ],
      "execution_count": 10,
      "outputs": [
        {
          "output_type": "stream",
          "text": [
            "[[0.00300278]\n",
            " [0.00268017]\n",
            " [0.00724638]\n",
            " ...\n",
            " [0.10837304]\n",
            " [0.11274072]\n",
            " [0.11380782]]\n"
          ],
          "name": "stdout"
        },
        {
          "output_type": "execute_result",
          "data": {
            "text/plain": [
              "(1257, 1)"
            ]
          },
          "metadata": {
            "tags": []
          },
          "execution_count": 10
        }
      ]
    },
    {
      "cell_type": "markdown",
      "metadata": {
        "id": "7W0lFc44UeCC"
      },
      "source": [
        "### Splitting dataset into train and test split"
      ]
    },
    {
      "cell_type": "code",
      "metadata": {
        "id": "FYy7SyEtUdWG"
      },
      "source": [
        "training_size=int(len(df1)*0.65)\n",
        "test_size= len(df1)-training_size\n",
        "train_data,test_data=df1[0:training_size,:],df1[training_size:len(df1),:1]"
      ],
      "execution_count": 11,
      "outputs": []
    },
    {
      "cell_type": "code",
      "metadata": {
        "colab": {
          "base_uri": "https://localhost:8080/"
        },
        "id": "-SBxxdOyU3sb",
        "outputId": "33bf449f-4945-4d56-9b04-7d204781bc69"
      },
      "source": [
        "training_size,test_size"
      ],
      "execution_count": 12,
      "outputs": [
        {
          "output_type": "execute_result",
          "data": {
            "text/plain": [
              "(817, 440)"
            ]
          },
          "metadata": {
            "tags": []
          },
          "execution_count": 12
        }
      ]
    },
    {
      "cell_type": "code",
      "metadata": {
        "colab": {
          "base_uri": "https://localhost:8080/"
        },
        "id": "xQUD27HtV6iK",
        "outputId": "089810bc-1574-483f-dda2-c800a2f79b3d"
      },
      "source": [
        "len(train_data), len(test_data)"
      ],
      "execution_count": 13,
      "outputs": [
        {
          "output_type": "execute_result",
          "data": {
            "text/plain": [
              "(817, 440)"
            ]
          },
          "metadata": {
            "tags": []
          },
          "execution_count": 13
        }
      ]
    },
    {
      "cell_type": "code",
      "metadata": {
        "id": "1TVK6clBXgq1"
      },
      "source": [
        "import numpy\n",
        "### conver array of values into a dataset matrix\n",
        "def create_dataset(dataset,time_step=1):\n",
        "  dataX, dataY = [],[]\n",
        "  for i in range(len(dataset)-time_step-1):\n",
        "    a= dataset[i:(i+time_step),0]\n",
        "    dataX.append(a)\n",
        "    dataY.append(dataset[i + time_step,0])\n",
        "  return numpy.array(dataX), numpy.array(dataY)"
      ],
      "execution_count": 14,
      "outputs": []
    },
    {
      "cell_type": "code",
      "metadata": {
        "id": "zxsGnBUpZAXW"
      },
      "source": [
        "### reshape into X=t,t+1,t+2, t+3 and Y=t+4\n",
        "time_step = 100\n",
        "X_train, y_train = create_dataset(train_data,time_step)\n",
        "X_test, y_test = create_dataset(test_data,time_step)"
      ],
      "execution_count": 15,
      "outputs": []
    },
    {
      "cell_type": "code",
      "metadata": {
        "colab": {
          "base_uri": "https://localhost:8080/"
        },
        "id": "Q36wU_wBZnpW",
        "outputId": "458c00b2-2c7c-4324-af72-6c52c5aff31b"
      },
      "source": [
        "print(X_train.shape), print (y_train.shape)"
      ],
      "execution_count": 21,
      "outputs": [
        {
          "output_type": "stream",
          "text": [
            "(716, 100)\n",
            "(716,)\n"
          ],
          "name": "stdout"
        },
        {
          "output_type": "execute_result",
          "data": {
            "text/plain": [
              "(None, None)"
            ]
          },
          "metadata": {
            "tags": []
          },
          "execution_count": 21
        }
      ]
    },
    {
      "cell_type": "code",
      "metadata": {
        "colab": {
          "base_uri": "https://localhost:8080/"
        },
        "id": "C_Htx-rqaJd7",
        "outputId": "a14cb388-dc9d-433f-a41d-b3abd7d40f32"
      },
      "source": [
        "print(X_test.shape), print (y_test.shape)"
      ],
      "execution_count": 16,
      "outputs": [
        {
          "output_type": "stream",
          "text": [
            "(339, 100)\n",
            "(339,)\n"
          ],
          "name": "stdout"
        },
        {
          "output_type": "execute_result",
          "data": {
            "text/plain": [
              "(None, None)"
            ]
          },
          "metadata": {
            "tags": []
          },
          "execution_count": 16
        }
      ]
    },
    {
      "cell_type": "code",
      "metadata": {
        "id": "ZcSfWGyCahiu"
      },
      "source": [
        "### reshape input to be [samples, time steps, features] which is required for LSTM\n",
        "X_train = X_train.reshape(X_train.shape[0],X_train.shape[1],1)\n",
        "X_test = X_test.reshape(X_test.shape[0],X_test.shape[1],1)"
      ],
      "execution_count": 17,
      "outputs": []
    },
    {
      "cell_type": "code",
      "metadata": {
        "id": "xZhxK8Qvauyv"
      },
      "source": [
        "### Create the Stacked LSTM model\n",
        "from tensorflow.keras.models import Sequential\n",
        "from tensorflow.keras.layers import Dense\n",
        "from tensorflow.keras.layers import LSTM"
      ],
      "execution_count": 18,
      "outputs": []
    },
    {
      "cell_type": "code",
      "metadata": {
        "id": "eI2BzZQFcptz"
      },
      "source": [
        "model=Sequential()\n",
        "model.add(LSTM(50,return_sequences=True,input_shape=(100,1)))\n",
        "model.add(LSTM(50,return_sequences=True))\n",
        "model.add(LSTM(50))\n",
        "model.add(Dense(1))\n",
        "model.compile(loss='mean_squared_error',optimizer='adam')"
      ],
      "execution_count": 19,
      "outputs": []
    },
    {
      "cell_type": "code",
      "metadata": {
        "colab": {
          "base_uri": "https://localhost:8080/"
        },
        "id": "2KJPpPgkdY2v",
        "outputId": "38f39418-f0cc-4976-c762-fa02ff0759e4"
      },
      "source": [
        "model.summary()"
      ],
      "execution_count": 27,
      "outputs": [
        {
          "output_type": "stream",
          "text": [
            "Model: \"sequential\"\n",
            "_________________________________________________________________\n",
            "Layer (type)                 Output Shape              Param #   \n",
            "=================================================================\n",
            "lstm (LSTM)                  (None, 100, 50)           10400     \n",
            "_________________________________________________________________\n",
            "lstm_1 (LSTM)                (None, 100, 50)           20200     \n",
            "_________________________________________________________________\n",
            "lstm_2 (LSTM)                (None, 50)                20200     \n",
            "_________________________________________________________________\n",
            "dense (Dense)                (None, 1)                 51        \n",
            "=================================================================\n",
            "Total params: 50,851\n",
            "Trainable params: 50,851\n",
            "Non-trainable params: 0\n",
            "_________________________________________________________________\n"
          ],
          "name": "stdout"
        }
      ]
    },
    {
      "cell_type": "code",
      "metadata": {
        "colab": {
          "base_uri": "https://localhost:8080/"
        },
        "id": "SRWjSmN2dpMr",
        "outputId": "019d8855-16d5-40c1-c398-d1cf3bb5e749"
      },
      "source": [
        "model.fit(X_train,y_train,validation_data=(X_test,y_test),epochs=100,batch_size=64,verbose=1)"
      ],
      "execution_count": 20,
      "outputs": [
        {
          "output_type": "stream",
          "text": [
            "Epoch 1/100\n",
            "12/12 [==============================] - 11s 103ms/step - loss: 0.0130 - val_loss: 0.0368\n",
            "Epoch 2/100\n",
            "12/12 [==============================] - 0s 22ms/step - loss: 0.0022 - val_loss: 0.0265\n",
            "Epoch 3/100\n",
            "12/12 [==============================] - 0s 17ms/step - loss: 0.0013 - val_loss: 0.0219\n",
            "Epoch 4/100\n",
            "12/12 [==============================] - 0s 18ms/step - loss: 6.5843e-04 - val_loss: 0.0209\n",
            "Epoch 5/100\n",
            "12/12 [==============================] - 0s 18ms/step - loss: 4.7138e-04 - val_loss: 0.0216\n",
            "Epoch 6/100\n",
            "12/12 [==============================] - 0s 17ms/step - loss: 4.3491e-04 - val_loss: 0.0198\n",
            "Epoch 7/100\n",
            "12/12 [==============================] - 0s 17ms/step - loss: 4.2078e-04 - val_loss: 0.0195\n",
            "Epoch 8/100\n",
            "12/12 [==============================] - 0s 18ms/step - loss: 4.0243e-04 - val_loss: 0.0195\n",
            "Epoch 9/100\n",
            "12/12 [==============================] - 0s 17ms/step - loss: 3.9317e-04 - val_loss: 0.0193\n",
            "Epoch 10/100\n",
            "12/12 [==============================] - 0s 17ms/step - loss: 3.7376e-04 - val_loss: 0.0190\n",
            "Epoch 11/100\n",
            "12/12 [==============================] - 0s 17ms/step - loss: 4.0122e-04 - val_loss: 0.0174\n",
            "Epoch 12/100\n",
            "12/12 [==============================] - 0s 17ms/step - loss: 3.7725e-04 - val_loss: 0.0170\n",
            "Epoch 13/100\n",
            "12/12 [==============================] - 0s 17ms/step - loss: 3.7547e-04 - val_loss: 0.0169\n",
            "Epoch 14/100\n",
            "12/12 [==============================] - 0s 17ms/step - loss: 3.3216e-04 - val_loss: 0.0175\n",
            "Epoch 15/100\n",
            "12/12 [==============================] - 0s 17ms/step - loss: 3.2139e-04 - val_loss: 0.0167\n",
            "Epoch 16/100\n",
            "12/12 [==============================] - 0s 17ms/step - loss: 3.0877e-04 - val_loss: 0.0162\n",
            "Epoch 17/100\n",
            "12/12 [==============================] - 0s 17ms/step - loss: 2.8861e-04 - val_loss: 0.0162\n",
            "Epoch 18/100\n",
            "12/12 [==============================] - 0s 16ms/step - loss: 2.7291e-04 - val_loss: 0.0156\n",
            "Epoch 19/100\n",
            "12/12 [==============================] - 0s 17ms/step - loss: 2.7709e-04 - val_loss: 0.0165\n",
            "Epoch 20/100\n",
            "12/12 [==============================] - 0s 17ms/step - loss: 2.5051e-04 - val_loss: 0.0159\n",
            "Epoch 21/100\n",
            "12/12 [==============================] - 0s 17ms/step - loss: 2.5202e-04 - val_loss: 0.0168\n",
            "Epoch 22/100\n",
            "12/12 [==============================] - 0s 17ms/step - loss: 3.0535e-04 - val_loss: 0.0147\n",
            "Epoch 23/100\n",
            "12/12 [==============================] - 0s 17ms/step - loss: 2.5743e-04 - val_loss: 0.0145\n",
            "Epoch 24/100\n",
            "12/12 [==============================] - 0s 17ms/step - loss: 2.7166e-04 - val_loss: 0.0147\n",
            "Epoch 25/100\n",
            "12/12 [==============================] - 0s 18ms/step - loss: 2.4521e-04 - val_loss: 0.0153\n",
            "Epoch 26/100\n",
            "12/12 [==============================] - 0s 18ms/step - loss: 2.8164e-04 - val_loss: 0.0140\n",
            "Epoch 27/100\n",
            "12/12 [==============================] - 0s 18ms/step - loss: 2.7936e-04 - val_loss: 0.0140\n",
            "Epoch 28/100\n",
            "12/12 [==============================] - 0s 17ms/step - loss: 2.4792e-04 - val_loss: 0.0132\n",
            "Epoch 29/100\n",
            "12/12 [==============================] - 0s 17ms/step - loss: 2.2521e-04 - val_loss: 0.0137\n",
            "Epoch 30/100\n",
            "12/12 [==============================] - 0s 17ms/step - loss: 2.3225e-04 - val_loss: 0.0132\n",
            "Epoch 31/100\n",
            "12/12 [==============================] - 0s 17ms/step - loss: 2.2661e-04 - val_loss: 0.0136\n",
            "Epoch 32/100\n",
            "12/12 [==============================] - 0s 18ms/step - loss: 2.3467e-04 - val_loss: 0.0131\n",
            "Epoch 33/100\n",
            "12/12 [==============================] - 0s 19ms/step - loss: 2.3232e-04 - val_loss: 0.0130\n",
            "Epoch 34/100\n",
            "12/12 [==============================] - 0s 18ms/step - loss: 2.1447e-04 - val_loss: 0.0129\n",
            "Epoch 35/100\n",
            "12/12 [==============================] - 0s 18ms/step - loss: 2.1146e-04 - val_loss: 0.0133\n",
            "Epoch 36/100\n",
            "12/12 [==============================] - 0s 17ms/step - loss: 2.2696e-04 - val_loss: 0.0120\n",
            "Epoch 37/100\n",
            "12/12 [==============================] - 0s 18ms/step - loss: 2.2887e-04 - val_loss: 0.0127\n",
            "Epoch 38/100\n",
            "12/12 [==============================] - 0s 17ms/step - loss: 2.2218e-04 - val_loss: 0.0118\n",
            "Epoch 39/100\n",
            "12/12 [==============================] - 0s 17ms/step - loss: 2.1377e-04 - val_loss: 0.0123\n",
            "Epoch 40/100\n",
            "12/12 [==============================] - 0s 18ms/step - loss: 2.0557e-04 - val_loss: 0.0121\n",
            "Epoch 41/100\n",
            "12/12 [==============================] - 0s 17ms/step - loss: 2.0061e-04 - val_loss: 0.0118\n",
            "Epoch 42/100\n",
            "12/12 [==============================] - 0s 17ms/step - loss: 2.0041e-04 - val_loss: 0.0118\n",
            "Epoch 43/100\n",
            "12/12 [==============================] - 0s 17ms/step - loss: 1.9733e-04 - val_loss: 0.0118\n",
            "Epoch 44/100\n",
            "12/12 [==============================] - 0s 19ms/step - loss: 2.1017e-04 - val_loss: 0.0122\n",
            "Epoch 45/100\n",
            "12/12 [==============================] - 0s 17ms/step - loss: 2.0750e-04 - val_loss: 0.0113\n",
            "Epoch 46/100\n",
            "12/12 [==============================] - 0s 16ms/step - loss: 2.1722e-04 - val_loss: 0.0121\n",
            "Epoch 47/100\n",
            "12/12 [==============================] - 0s 16ms/step - loss: 2.2844e-04 - val_loss: 0.0109\n",
            "Epoch 48/100\n",
            "12/12 [==============================] - 0s 17ms/step - loss: 1.9057e-04 - val_loss: 0.0115\n",
            "Epoch 49/100\n",
            "12/12 [==============================] - 0s 17ms/step - loss: 1.8592e-04 - val_loss: 0.0112\n",
            "Epoch 50/100\n",
            "12/12 [==============================] - 0s 27ms/step - loss: 1.9312e-04 - val_loss: 0.0117\n",
            "Epoch 51/100\n",
            "12/12 [==============================] - 0s 18ms/step - loss: 1.9528e-04 - val_loss: 0.0121\n",
            "Epoch 52/100\n",
            "12/12 [==============================] - 0s 17ms/step - loss: 1.8484e-04 - val_loss: 0.0108\n",
            "Epoch 53/100\n",
            "12/12 [==============================] - 0s 19ms/step - loss: 1.7883e-04 - val_loss: 0.0104\n",
            "Epoch 54/100\n",
            "12/12 [==============================] - 0s 18ms/step - loss: 1.9823e-04 - val_loss: 0.0109\n",
            "Epoch 55/100\n",
            "12/12 [==============================] - 0s 17ms/step - loss: 1.8405e-04 - val_loss: 0.0113\n",
            "Epoch 56/100\n",
            "12/12 [==============================] - 0s 17ms/step - loss: 1.7207e-04 - val_loss: 0.0104\n",
            "Epoch 57/100\n",
            "12/12 [==============================] - 0s 17ms/step - loss: 2.1312e-04 - val_loss: 0.0110\n",
            "Epoch 58/100\n",
            "12/12 [==============================] - 0s 18ms/step - loss: 2.0854e-04 - val_loss: 0.0097\n",
            "Epoch 59/100\n",
            "12/12 [==============================] - 0s 19ms/step - loss: 1.8465e-04 - val_loss: 0.0099\n",
            "Epoch 60/100\n",
            "12/12 [==============================] - 0s 19ms/step - loss: 1.6970e-04 - val_loss: 0.0098\n",
            "Epoch 61/100\n",
            "12/12 [==============================] - 0s 18ms/step - loss: 1.7241e-04 - val_loss: 0.0100\n",
            "Epoch 62/100\n",
            "12/12 [==============================] - 0s 18ms/step - loss: 1.9178e-04 - val_loss: 0.0111\n",
            "Epoch 63/100\n",
            "12/12 [==============================] - 0s 18ms/step - loss: 1.8963e-04 - val_loss: 0.0094\n",
            "Epoch 64/100\n",
            "12/12 [==============================] - 0s 17ms/step - loss: 1.9024e-04 - val_loss: 0.0102\n",
            "Epoch 65/100\n",
            "12/12 [==============================] - 0s 17ms/step - loss: 1.6989e-04 - val_loss: 0.0090\n",
            "Epoch 66/100\n",
            "12/12 [==============================] - 0s 17ms/step - loss: 2.0456e-04 - val_loss: 0.0095\n",
            "Epoch 67/100\n",
            "12/12 [==============================] - 0s 18ms/step - loss: 1.6241e-04 - val_loss: 0.0090\n",
            "Epoch 68/100\n",
            "12/12 [==============================] - 0s 17ms/step - loss: 1.7412e-04 - val_loss: 0.0097\n",
            "Epoch 69/100\n",
            "12/12 [==============================] - 0s 17ms/step - loss: 1.6170e-04 - val_loss: 0.0091\n",
            "Epoch 70/100\n",
            "12/12 [==============================] - 0s 17ms/step - loss: 1.8049e-04 - val_loss: 0.0093\n",
            "Epoch 71/100\n",
            "12/12 [==============================] - 0s 18ms/step - loss: 1.5855e-04 - val_loss: 0.0086\n",
            "Epoch 72/100\n",
            "12/12 [==============================] - 0s 18ms/step - loss: 1.6024e-04 - val_loss: 0.0101\n",
            "Epoch 73/100\n",
            "12/12 [==============================] - 0s 20ms/step - loss: 1.8424e-04 - val_loss: 0.0082\n",
            "Epoch 74/100\n",
            "12/12 [==============================] - 0s 19ms/step - loss: 1.7191e-04 - val_loss: 0.0088\n",
            "Epoch 75/100\n",
            "12/12 [==============================] - 0s 18ms/step - loss: 1.6448e-04 - val_loss: 0.0082\n",
            "Epoch 76/100\n",
            "12/12 [==============================] - 0s 19ms/step - loss: 1.4151e-04 - val_loss: 0.0084\n",
            "Epoch 77/100\n",
            "12/12 [==============================] - 0s 18ms/step - loss: 1.4184e-04 - val_loss: 0.0085\n",
            "Epoch 78/100\n",
            "12/12 [==============================] - 0s 18ms/step - loss: 1.3901e-04 - val_loss: 0.0084\n",
            "Epoch 79/100\n",
            "12/12 [==============================] - 0s 17ms/step - loss: 1.4214e-04 - val_loss: 0.0086\n",
            "Epoch 80/100\n",
            "12/12 [==============================] - 0s 17ms/step - loss: 1.7331e-04 - val_loss: 0.0080\n",
            "Epoch 81/100\n",
            "12/12 [==============================] - 0s 20ms/step - loss: 2.1357e-04 - val_loss: 0.0095\n",
            "Epoch 82/100\n",
            "12/12 [==============================] - 0s 17ms/step - loss: 1.7164e-04 - val_loss: 0.0075\n",
            "Epoch 83/100\n",
            "12/12 [==============================] - 0s 18ms/step - loss: 1.6148e-04 - val_loss: 0.0080\n",
            "Epoch 84/100\n",
            "12/12 [==============================] - 0s 18ms/step - loss: 1.3240e-04 - val_loss: 0.0079\n",
            "Epoch 85/100\n",
            "12/12 [==============================] - 0s 18ms/step - loss: 1.3076e-04 - val_loss: 0.0075\n",
            "Epoch 86/100\n",
            "12/12 [==============================] - 0s 18ms/step - loss: 1.4262e-04 - val_loss: 0.0079\n",
            "Epoch 87/100\n",
            "12/12 [==============================] - 0s 21ms/step - loss: 1.3397e-04 - val_loss: 0.0076\n",
            "Epoch 88/100\n",
            "12/12 [==============================] - 0s 18ms/step - loss: 1.2964e-04 - val_loss: 0.0074\n",
            "Epoch 89/100\n",
            "12/12 [==============================] - 0s 18ms/step - loss: 1.3303e-04 - val_loss: 0.0072\n",
            "Epoch 90/100\n",
            "12/12 [==============================] - 0s 18ms/step - loss: 1.3270e-04 - val_loss: 0.0071\n",
            "Epoch 91/100\n",
            "12/12 [==============================] - 0s 18ms/step - loss: 1.4272e-04 - val_loss: 0.0069\n",
            "Epoch 92/100\n",
            "12/12 [==============================] - 0s 19ms/step - loss: 1.5695e-04 - val_loss: 0.0082\n",
            "Epoch 93/100\n",
            "12/12 [==============================] - 0s 19ms/step - loss: 1.6858e-04 - val_loss: 0.0067\n",
            "Epoch 94/100\n",
            "12/12 [==============================] - 0s 18ms/step - loss: 1.6811e-04 - val_loss: 0.0069\n",
            "Epoch 95/100\n",
            "12/12 [==============================] - 0s 19ms/step - loss: 1.4545e-04 - val_loss: 0.0063\n",
            "Epoch 96/100\n",
            "12/12 [==============================] - 0s 18ms/step - loss: 1.3318e-04 - val_loss: 0.0070\n",
            "Epoch 97/100\n",
            "12/12 [==============================] - 0s 17ms/step - loss: 1.2579e-04 - val_loss: 0.0066\n",
            "Epoch 98/100\n",
            "12/12 [==============================] - 0s 19ms/step - loss: 1.1884e-04 - val_loss: 0.0065\n",
            "Epoch 99/100\n",
            "12/12 [==============================] - 0s 19ms/step - loss: 1.1138e-04 - val_loss: 0.0067\n",
            "Epoch 100/100\n",
            "12/12 [==============================] - 0s 18ms/step - loss: 1.1567e-04 - val_loss: 0.0060\n"
          ],
          "name": "stdout"
        },
        {
          "output_type": "execute_result",
          "data": {
            "text/plain": [
              "<tensorflow.python.keras.callbacks.History at 0x7ff6647a0210>"
            ]
          },
          "metadata": {
            "tags": []
          },
          "execution_count": 20
        }
      ]
    },
    {
      "cell_type": "code",
      "metadata": {
        "id": "3fu6HL-yepvn"
      },
      "source": [
        "### Predict and check performance metrics\n",
        "train_predict=model.predict(X_train)\n",
        "test_predict= model.predict(X_test)"
      ],
      "execution_count": 22,
      "outputs": []
    },
    {
      "cell_type": "code",
      "metadata": {
        "id": "57hlQZ0te43f"
      },
      "source": [
        "### Transform back to original form\n",
        "train_predict = scaler.inverse_transform(train_predict)\n",
        "test_predict = scaler.inverse_transform(test_predict)"
      ],
      "execution_count": 23,
      "outputs": []
    },
    {
      "cell_type": "code",
      "metadata": {
        "colab": {
          "base_uri": "https://localhost:8080/"
        },
        "id": "IEQkmcZ7fVZN",
        "outputId": "0352fef3-2442-4faa-c9d8-8aa5cdb02140"
      },
      "source": [
        "### Calculate Root Mean Square Error(RMSE) performance metrics\n",
        "import math\n",
        "from sklearn.metrics import mean_squared_error\n",
        "math.sqrt(mean_squared_error(y_train,train_predict))"
      ],
      "execution_count": 24,
      "outputs": [
        {
          "output_type": "execute_result",
          "data": {
            "text/plain": [
              "177.41756144979774"
            ]
          },
          "metadata": {
            "tags": []
          },
          "execution_count": 24
        }
      ]
    },
    {
      "cell_type": "code",
      "metadata": {
        "colab": {
          "base_uri": "https://localhost:8080/"
        },
        "id": "DvEqa5lZf1oM",
        "outputId": "6835eab0-7a2e-4231-bf4f-430a60235c2c"
      },
      "source": [
        "### Test Data RMSE\n",
        "math.sqrt(mean_squared_error(y_test,test_predict))"
      ],
      "execution_count": 25,
      "outputs": [
        {
          "output_type": "execute_result",
          "data": {
            "text/plain": [
              "226.3234585152285"
            ]
          },
          "metadata": {
            "tags": []
          },
          "execution_count": 25
        }
      ]
    },
    {
      "cell_type": "code",
      "metadata": {
        "colab": {
          "base_uri": "https://localhost:8080/",
          "height": 265
        },
        "id": "LN0mK61Wf_Xk",
        "outputId": "5e5d971a-3e83-4934-d0e1-16e7ef8a857a"
      },
      "source": [
        "### Plotting \n",
        "# shift train predictions for plotting\n",
        "look_back=100\n",
        "trainPredictPlot = numpy.empty_like(df1)\n",
        "trainPredictPlot[:, :] = np.nan\n",
        "trainPredictPlot[look_back:len(train_predict)+look_back, :] = train_predict\n",
        "# shift test predictions for plotting\n",
        "testPredictPlot = numpy.empty_like(df1)\n",
        "testPredictPlot[:, :] = numpy.nan\n",
        "testPredictPlot[len(train_predict)+(look_back*2)+1:len(df1)-1, :] = test_predict\n",
        "# plot baseline and predictions\n",
        "plt.plot(scaler.inverse_transform(df1))\n",
        "plt.plot(trainPredictPlot)\n",
        "plt.plot(testPredictPlot)\n",
        "plt.show()"
      ],
      "execution_count": 28,
      "outputs": [
        {
          "output_type": "display_data",
          "data": {
            "image/png": "[encoded data removed]",
            "text/plain": [
              "<Figure size 432x288 with 1 Axes>"
            ]
          },
          "metadata": {
            "tags": [],
            "needs_background": "light"
          }
        }
      ]
    },
    {
      "cell_type": "code",
      "metadata": {
        "colab": {
          "base_uri": "https://localhost:8080/"
        },
        "id": "rNyBumDHi5Gv",
        "outputId": "5a2ff759-3ebf-4095-c8ec-505caf9d1e72"
      },
      "source": [
        "len(test_data)"
      ],
      "execution_count": 29,
      "outputs": [
        {
          "output_type": "execute_result",
          "data": {
            "text/plain": [
              "440"
            ]
          },
          "metadata": {
            "tags": []
          },
          "execution_count": 29
        }
      ]
    },
    {
      "cell_type": "code",
      "metadata": {
        "colab": {
          "base_uri": "https://localhost:8080/"
        },
        "id": "TAbJSvUKi8hw",
        "outputId": "22b4656d-abdd-48d2-a09d-6fb619bc87ac"
      },
      "source": [
        "x_input=test_data[340:].reshape(1,-1)\n",
        "x_input.shape"
      ],
      "execution_count": 30,
      "outputs": [
        {
          "output_type": "execute_result",
          "data": {
            "text/plain": [
              "(1, 100)"
            ]
          },
          "metadata": {
            "tags": []
          },
          "execution_count": 30
        }
      ]
    },
    {
      "cell_type": "code",
      "metadata": {
        "colab": {
          "base_uri": "https://localhost:8080/"
        },
        "id": "EMKp6vh_jCuJ",
        "outputId": "57c9e7f1-f588-49de-fbdf-bbd23630951b"
      },
      "source": [
        "temp_input=list(x_input)\n",
        "temp_input=temp_input[0].tolist()\n",
        "temp_input\n"
      ],
      "execution_count": 34,
      "outputs": [
        {
          "output_type": "execute_result",
          "data": {
            "text/plain": [
              "[0.04218781020448681,\n",
              " 0.04538912050823907,\n",
              " 0.03283204288266828,\n",
              " 0.04455777248362125,\n",
              " 0.04181556482032961,\n",
              " 0.04672920389120511,\n",
              " 0.04442128250943028,\n",
              " 0.051766924756799726,\n",
              " 0.05568790946992258,\n",
              " 0.05367778439547355,\n",
              " 0.04318046456223945,\n",
              " 0.04184038117927341,\n",
              " 0.05027794322017076,\n",
              " 0.048168552709946466,\n",
              " 0.0420885447687116,\n",
              " 0.043329362715902375,\n",
              " 0.044867976970418944,\n",
              " 0.045314671431407605,\n",
              " 0.04161703394877908,\n",
              " 0.047200714711137626,\n",
              " 0.04931010522136198,\n",
              " 0.05650684931506855,\n",
              " 0.05727615644232681,\n",
              " 0.06147012110383171,\n",
              " 0.06757494540401038,\n",
              " 0.0741140559857058,\n",
              " 0.06975878499106619,\n",
              " 0.07767520349414342,\n",
              " 0.07171927734762762,\n",
              " 0.07784891800675009,\n",
              " 0.07700516180266037,\n",
              " 0.07869267421083981,\n",
              " 0.07439944411355975,\n",
              " 0.07536728211236854,\n",
              " 0.07149593011713323,\n",
              " 0.07740222354576137,\n",
              " 0.07839487790351402,\n",
              " 0.0775759380583681,\n",
              " 0.07556581298391907,\n",
              " 0.07531764939448088,\n",
              " 0.07030474488783012,\n",
              " 0.0729849116537622,\n",
              " 0.06134603930911259,\n",
              " 0.061966448282707975,\n",
              " 0.06603633114949381,\n",
              " 0.06720270001985312,\n",
              " 0.05886440341473104,\n",
              " 0.056531665674012355,\n",
              " 0.048739328965654194,\n",
              " 0.05419892793329367,\n",
              " 0.06035338495136,\n",
              " 0.05742505459598973,\n",
              " 0.05390113162596788,\n",
              " 0.05350406988286682,\n",
              " 0.06000595592614655,\n",
              " 0.055340480444709184,\n",
              " 0.059484812388326425,\n",
              " 0.0589884852094501,\n",
              " 0.05886440341473104,\n",
              " 0.054968235060551984,\n",
              " 0.053305539011316294,\n",
              " 0.05248659916617038,\n",
              " 0.054422275163788,\n",
              " 0.05065018860432802,\n",
              " 0.056482032956124695,\n",
              " 0.05650684931506855,\n",
              " 0.058591423466349046,\n",
              " 0.05955926146515789,\n",
              " 0.057027992852888676,\n",
              " 0.06010522136192181,\n",
              " 0.06787274171133612,\n",
              " 0.06578816756005562,\n",
              " 0.06705380186619025,\n",
              " 0.07112368473297598,\n",
              " 0.06782310899344857,\n",
              " 0.07238931903911067,\n",
              " 0.07655846734167165,\n",
              " 0.0758636092912448,\n",
              " 0.07514393488187415,\n",
              " 0.07439944411355975,\n",
              " 0.07854377605717694,\n",
              " 0.08239031169346839,\n",
              " 0.08395374230692881,\n",
              " 0.08472304943418707,\n",
              " 0.09139864999007352,\n",
              " 0.09651081993249955,\n",
              " 0.10283899146317255,\n",
              " 0.09953841572364508,\n",
              " 0.10417907484613864,\n",
              " 0.10266527695056588,\n",
              " 0.10549434187016082,\n",
              " 0.11420488385944022,\n",
              " 0.11254218781020453,\n",
              " 0.10735556879094699,\n",
              " 0.0975779233670836,\n",
              " 0.10675997617629546,\n",
              " 0.1048987492555093,\n",
              " 0.10837303950764349,\n",
              " 0.11274071868175506,\n",
              " 0.11380782211633916]"
            ]
          },
          "metadata": {
            "tags": []
          },
          "execution_count": 34
        }
      ]
    },
    {
      "cell_type": "code",
      "metadata": {
        "colab": {
          "base_uri": "https://localhost:8080/"
        },
        "id": "AYKcAJodjZHg",
        "outputId": "7856987b-2714-4be4-f403-f8b63af1eeb1"
      },
      "source": [
        "# demonstrate prediction for next 30 days\n",
        "from numpy import array\n",
        "\n",
        "lst_output=[]\n",
        "n_steps=100\n",
        "i=0\n",
        "while(i<30):\n",
        "    \n",
        "    if(len(temp_input)>100):\n",
        "        #print(temp_input)\n",
        "        x_input=np.array(temp_input[1:])\n",
        "        print(\"{} day input {}\".format(i,x_input))\n",
        "        x_input=x_input.reshape(1,-1)\n",
        "        x_input = x_input.reshape((1, n_steps, 1))\n",
        "        #print(x_input)\n",
        "        yhat = model.predict(x_input, verbose=0)\n",
        "        print(\"{} day output {}\".format(i,yhat))\n",
        "        temp_input.extend(yhat[0].tolist())\n",
        "        temp_input=temp_input[1:]\n",
        "        #print(temp_input)\n",
        "        lst_output.extend(yhat.tolist())\n",
        "        i=i+1\n",
        "    else:\n",
        "        x_input = x_input.reshape((1, n_steps,1))\n",
        "        yhat = model.predict(x_input, verbose=0)\n",
        "        print(yhat[0])\n",
        "        temp_input.extend(yhat[0].tolist())\n",
        "        print(len(temp_input))\n",
        "        lst_output.extend(yhat.tolist())\n",
        "        i=i+1\n",
        "    \n",
        "\n",
        "print(lst_output)"
      ],
      "execution_count": 35,
      "outputs": [
        {
          "output_type": "stream",
          "text": [
            "[0.1085899]\n",
            "101\n",
            "1 day input [0.04538912 0.03283204 0.04455777 0.04181556 0.0467292  0.04442128\n",
            " 0.05176692 0.05568791 0.05367778 0.04318046 0.04184038 0.05027794\n",
            " 0.04816855 0.04208854 0.04332936 0.04486798 0.04531467 0.04161703\n",
            " 0.04720071 0.04931011 0.05650685 0.05727616 0.06147012 0.06757495\n",
            " 0.07411406 0.06975878 0.0776752  0.07171928 0.07784892 0.07700516\n",
            " 0.07869267 0.07439944 0.07536728 0.07149593 0.07740222 0.07839488\n",
            " 0.07757594 0.07556581 0.07531765 0.07030474 0.07298491 0.06134604\n",
            " 0.06196645 0.06603633 0.0672027  0.0588644  0.05653167 0.04873933\n",
            " 0.05419893 0.06035338 0.05742505 0.05390113 0.05350407 0.06000596\n",
            " 0.05534048 0.05948481 0.05898849 0.0588644  0.05496824 0.05330554\n",
            " 0.0524866  0.05442228 0.05065019 0.05648203 0.05650685 0.05859142\n",
            " 0.05955926 0.05702799 0.06010522 0.06787274 0.06578817 0.0670538\n",
            " 0.07112368 0.06782311 0.07238932 0.07655847 0.07586361 0.07514393\n",
            " 0.07439944 0.07854378 0.08239031 0.08395374 0.08472305 0.09139865\n",
            " 0.09651082 0.10283899 0.09953842 0.10417907 0.10266528 0.10549434\n",
            " 0.11420488 0.11254219 0.10735557 0.09757792 0.10675998 0.10489875\n",
            " 0.10837304 0.11274072 0.11380782 0.1085899 ]\n",
            "1 day output [[0.10986622]]\n",
            "2 day input [0.03283204 0.04455777 0.04181556 0.0467292  0.04442128 0.05176692\n",
            " 0.05568791 0.05367778 0.04318046 0.04184038 0.05027794 0.04816855\n",
            " 0.04208854 0.04332936 0.04486798 0.04531467 0.04161703 0.04720071\n",
            " 0.04931011 0.05650685 0.05727616 0.06147012 0.06757495 0.07411406\n",
            " 0.06975878 0.0776752  0.07171928 0.07784892 0.07700516 0.07869267\n",
            " 0.07439944 0.07536728 0.07149593 0.07740222 0.07839488 0.07757594\n",
            " 0.07556581 0.07531765 0.07030474 0.07298491 0.06134604 0.06196645\n",
            " 0.06603633 0.0672027  0.0588644  0.05653167 0.04873933 0.05419893\n",
            " 0.06035338 0.05742505 0.05390113 0.05350407 0.06000596 0.05534048\n",
            " 0.05948481 0.05898849 0.0588644  0.05496824 0.05330554 0.0524866\n",
            " 0.05442228 0.05065019 0.05648203 0.05650685 0.05859142 0.05955926\n",
            " 0.05702799 0.06010522 0.06787274 0.06578817 0.0670538  0.07112368\n",
            " 0.06782311 0.07238932 0.07655847 0.07586361 0.07514393 0.07439944\n",
            " 0.07854378 0.08239031 0.08395374 0.08472305 0.09139865 0.09651082\n",
            " 0.10283899 0.09953842 0.10417907 0.10266528 0.10549434 0.11420488\n",
            " 0.11254219 0.10735557 0.09757792 0.10675998 0.10489875 0.10837304\n",
            " 0.11274072 0.11380782 0.1085899  0.10986622]\n",
            "2 day output [[0.11091292]]\n",
            "3 day input [0.04455777 0.04181556 0.0467292  0.04442128 0.05176692 0.05568791\n",
            " 0.05367778 0.04318046 0.04184038 0.05027794 0.04816855 0.04208854\n",
            " 0.04332936 0.04486798 0.04531467 0.04161703 0.04720071 0.04931011\n",
            " 0.05650685 0.05727616 0.06147012 0.06757495 0.07411406 0.06975878\n",
            " 0.0776752  0.07171928 0.07784892 0.07700516 0.07869267 0.07439944\n",
            " 0.07536728 0.07149593 0.07740222 0.07839488 0.07757594 0.07556581\n",
            " 0.07531765 0.07030474 0.07298491 0.06134604 0.06196645 0.06603633\n",
            " 0.0672027  0.0588644  0.05653167 0.04873933 0.05419893 0.06035338\n",
            " 0.05742505 0.05390113 0.05350407 0.06000596 0.05534048 0.05948481\n",
            " 0.05898849 0.0588644  0.05496824 0.05330554 0.0524866  0.05442228\n",
            " 0.05065019 0.05648203 0.05650685 0.05859142 0.05955926 0.05702799\n",
            " 0.06010522 0.06787274 0.06578817 0.0670538  0.07112368 0.06782311\n",
            " 0.07238932 0.07655847 0.07586361 0.07514393 0.07439944 0.07854378\n",
            " 0.08239031 0.08395374 0.08472305 0.09139865 0.09651082 0.10283899\n",
            " 0.09953842 0.10417907 0.10266528 0.10549434 0.11420488 0.11254219\n",
            " 0.10735557 0.09757792 0.10675998 0.10489875 0.10837304 0.11274072\n",
            " 0.11380782 0.1085899  0.10986622 0.11091292]\n",
            "3 day output [[0.11173448]]\n",
            "4 day input [0.04181556 0.0467292  0.04442128 0.05176692 0.05568791 0.05367778\n",
            " 0.04318046 0.04184038 0.05027794 0.04816855 0.04208854 0.04332936\n",
            " 0.04486798 0.04531467 0.04161703 0.04720071 0.04931011 0.05650685\n",
            " 0.05727616 0.06147012 0.06757495 0.07411406 0.06975878 0.0776752\n",
            " 0.07171928 0.07784892 0.07700516 0.07869267 0.07439944 0.07536728\n",
            " 0.07149593 0.07740222 0.07839488 0.07757594 0.07556581 0.07531765\n",
            " 0.07030474 0.07298491 0.06134604 0.06196645 0.06603633 0.0672027\n",
            " 0.0588644  0.05653167 0.04873933 0.05419893 0.06035338 0.05742505\n",
            " 0.05390113 0.05350407 0.06000596 0.05534048 0.05948481 0.05898849\n",
            " 0.0588644  0.05496824 0.05330554 0.0524866  0.05442228 0.05065019\n",
            " 0.05648203 0.05650685 0.05859142 0.05955926 0.05702799 0.06010522\n",
            " 0.06787274 0.06578817 0.0670538  0.07112368 0.06782311 0.07238932\n",
            " 0.07655847 0.07586361 0.07514393 0.07439944 0.07854378 0.08239031\n",
            " 0.08395374 0.08472305 0.09139865 0.09651082 0.10283899 0.09953842\n",
            " 0.10417907 0.10266528 0.10549434 0.11420488 0.11254219 0.10735557\n",
            " 0.09757792 0.10675998 0.10489875 0.10837304 0.11274072 0.11380782\n",
            " 0.1085899  0.10986622 0.11091292 0.11173448]\n",
            "4 day output [[0.11241297]]\n",
            "5 day input [0.0467292  0.04442128 0.05176692 0.05568791 0.05367778 0.04318046\n",
            " 0.04184038 0.05027794 0.04816855 0.04208854 0.04332936 0.04486798\n",
            " 0.04531467 0.04161703 0.04720071 0.04931011 0.05650685 0.05727616\n",
            " 0.06147012 0.06757495 0.07411406 0.06975878 0.0776752  0.07171928\n",
            " 0.07784892 0.07700516 0.07869267 0.07439944 0.07536728 0.07149593\n",
            " 0.07740222 0.07839488 0.07757594 0.07556581 0.07531765 0.07030474\n",
            " 0.07298491 0.06134604 0.06196645 0.06603633 0.0672027  0.0588644\n",
            " 0.05653167 0.04873933 0.05419893 0.06035338 0.05742505 0.05390113\n",
            " 0.05350407 0.06000596 0.05534048 0.05948481 0.05898849 0.0588644\n",
            " 0.05496824 0.05330554 0.0524866  0.05442228 0.05065019 0.05648203\n",
            " 0.05650685 0.05859142 0.05955926 0.05702799 0.06010522 0.06787274\n",
            " 0.06578817 0.0670538  0.07112368 0.06782311 0.07238932 0.07655847\n",
            " 0.07586361 0.07514393 0.07439944 0.07854378 0.08239031 0.08395374\n",
            " 0.08472305 0.09139865 0.09651082 0.10283899 0.09953842 0.10417907\n",
            " 0.10266528 0.10549434 0.11420488 0.11254219 0.10735557 0.09757792\n",
            " 0.10675998 0.10489875 0.10837304 0.11274072 0.11380782 0.1085899\n",
            " 0.10986622 0.11091292 0.11173448 0.11241297]\n",
            "5 day output [[0.1130252]]\n",
            "6 day input [0.04442128 0.05176692 0.05568791 0.05367778 0.04318046 0.04184038\n",
            " 0.05027794 0.04816855 0.04208854 0.04332936 0.04486798 0.04531467\n",
            " 0.04161703 0.04720071 0.04931011 0.05650685 0.05727616 0.06147012\n",
            " 0.06757495 0.07411406 0.06975878 0.0776752  0.07171928 0.07784892\n",
            " 0.07700516 0.07869267 0.07439944 0.07536728 0.07149593 0.07740222\n",
            " 0.07839488 0.07757594 0.07556581 0.07531765 0.07030474 0.07298491\n",
            " 0.06134604 0.06196645 0.06603633 0.0672027  0.0588644  0.05653167\n",
            " 0.04873933 0.05419893 0.06035338 0.05742505 0.05390113 0.05350407\n",
            " 0.06000596 0.05534048 0.05948481 0.05898849 0.0588644  0.05496824\n",
            " 0.05330554 0.0524866  0.05442228 0.05065019 0.05648203 0.05650685\n",
            " 0.05859142 0.05955926 0.05702799 0.06010522 0.06787274 0.06578817\n",
            " 0.0670538  0.07112368 0.06782311 0.07238932 0.07655847 0.07586361\n",
            " 0.07514393 0.07439944 0.07854378 0.08239031 0.08395374 0.08472305\n",
            " 0.09139865 0.09651082 0.10283899 0.09953842 0.10417907 0.10266528\n",
            " 0.10549434 0.11420488 0.11254219 0.10735557 0.09757792 0.10675998\n",
            " 0.10489875 0.10837304 0.11274072 0.11380782 0.1085899  0.10986622\n",
            " 0.11091292 0.11173448 0.11241297 0.1130252 ]\n",
            "6 day output [[0.11361916]]\n",
            "7 day input [0.05176692 0.05568791 0.05367778 0.04318046 0.04184038 0.05027794\n",
            " 0.04816855 0.04208854 0.04332936 0.04486798 0.04531467 0.04161703\n",
            " 0.04720071 0.04931011 0.05650685 0.05727616 0.06147012 0.06757495\n",
            " 0.07411406 0.06975878 0.0776752  0.07171928 0.07784892 0.07700516\n",
            " 0.07869267 0.07439944 0.07536728 0.07149593 0.07740222 0.07839488\n",
            " 0.07757594 0.07556581 0.07531765 0.07030474 0.07298491 0.06134604\n",
            " 0.06196645 0.06603633 0.0672027  0.0588644  0.05653167 0.04873933\n",
            " 0.05419893 0.06035338 0.05742505 0.05390113 0.05350407 0.06000596\n",
            " 0.05534048 0.05948481 0.05898849 0.0588644  0.05496824 0.05330554\n",
            " 0.0524866  0.05442228 0.05065019 0.05648203 0.05650685 0.05859142\n",
            " 0.05955926 0.05702799 0.06010522 0.06787274 0.06578817 0.0670538\n",
            " 0.07112368 0.06782311 0.07238932 0.07655847 0.07586361 0.07514393\n",
            " 0.07439944 0.07854378 0.08239031 0.08395374 0.08472305 0.09139865\n",
            " 0.09651082 0.10283899 0.09953842 0.10417907 0.10266528 0.10549434\n",
            " 0.11420488 0.11254219 0.10735557 0.09757792 0.10675998 0.10489875\n",
            " 0.10837304 0.11274072 0.11380782 0.1085899  0.10986622 0.11091292\n",
            " 0.11173448 0.11241297 0.1130252  0.11361916]\n",
            "7 day output [[0.11421675]]\n",
            "8 day input [0.05568791 0.05367778 0.04318046 0.04184038 0.05027794 0.04816855\n",
            " 0.04208854 0.04332936 0.04486798 0.04531467 0.04161703 0.04720071\n",
            " 0.04931011 0.05650685 0.05727616 0.06147012 0.06757495 0.07411406\n",
            " 0.06975878 0.0776752  0.07171928 0.07784892 0.07700516 0.07869267\n",
            " 0.07439944 0.07536728 0.07149593 0.07740222 0.07839488 0.07757594\n",
            " 0.07556581 0.07531765 0.07030474 0.07298491 0.06134604 0.06196645\n",
            " 0.06603633 0.0672027  0.0588644  0.05653167 0.04873933 0.05419893\n",
            " 0.06035338 0.05742505 0.05390113 0.05350407 0.06000596 0.05534048\n",
            " 0.05948481 0.05898849 0.0588644  0.05496824 0.05330554 0.0524866\n",
            " 0.05442228 0.05065019 0.05648203 0.05650685 0.05859142 0.05955926\n",
            " 0.05702799 0.06010522 0.06787274 0.06578817 0.0670538  0.07112368\n",
            " 0.06782311 0.07238932 0.07655847 0.07586361 0.07514393 0.07439944\n",
            " 0.07854378 0.08239031 0.08395374 0.08472305 0.09139865 0.09651082\n",
            " 0.10283899 0.09953842 0.10417907 0.10266528 0.10549434 0.11420488\n",
            " 0.11254219 0.10735557 0.09757792 0.10675998 0.10489875 0.10837304\n",
            " 0.11274072 0.11380782 0.1085899  0.10986622 0.11091292 0.11173448\n",
            " 0.11241297 0.1130252  0.11361916 0.11421675]\n",
            "8 day output [[0.11482356]]\n",
            "9 day input [0.05367778 0.04318046 0.04184038 0.05027794 0.04816855 0.04208854\n",
            " 0.04332936 0.04486798 0.04531467 0.04161703 0.04720071 0.04931011\n",
            " 0.05650685 0.05727616 0.06147012 0.06757495 0.07411406 0.06975878\n",
            " 0.0776752  0.07171928 0.07784892 0.07700516 0.07869267 0.07439944\n",
            " 0.07536728 0.07149593 0.07740222 0.07839488 0.07757594 0.07556581\n",
            " 0.07531765 0.07030474 0.07298491 0.06134604 0.06196645 0.06603633\n",
            " 0.0672027  0.0588644  0.05653167 0.04873933 0.05419893 0.06035338\n",
            " 0.05742505 0.05390113 0.05350407 0.06000596 0.05534048 0.05948481\n",
            " 0.05898849 0.0588644  0.05496824 0.05330554 0.0524866  0.05442228\n",
            " 0.05065019 0.05648203 0.05650685 0.05859142 0.05955926 0.05702799\n",
            " 0.06010522 0.06787274 0.06578817 0.0670538  0.07112368 0.06782311\n",
            " 0.07238932 0.07655847 0.07586361 0.07514393 0.07439944 0.07854378\n",
            " 0.08239031 0.08395374 0.08472305 0.09139865 0.09651082 0.10283899\n",
            " 0.09953842 0.10417907 0.10266528 0.10549434 0.11420488 0.11254219\n",
            " 0.10735557 0.09757792 0.10675998 0.10489875 0.10837304 0.11274072\n",
            " 0.11380782 0.1085899  0.10986622 0.11091292 0.11173448 0.11241297\n",
            " 0.1130252  0.11361916 0.11421675 0.11482356]\n",
            "9 day output [[0.1154374]]\n",
            "10 day input [0.04318046 0.04184038 0.05027794 0.04816855 0.04208854 0.04332936\n",
            " 0.04486798 0.04531467 0.04161703 0.04720071 0.04931011 0.05650685\n",
            " 0.05727616 0.06147012 0.06757495 0.07411406 0.06975878 0.0776752\n",
            " 0.07171928 0.07784892 0.07700516 0.07869267 0.07439944 0.07536728\n",
            " 0.07149593 0.07740222 0.07839488 0.07757594 0.07556581 0.07531765\n",
            " 0.07030474 0.07298491 0.06134604 0.06196645 0.06603633 0.0672027\n",
            " 0.0588644  0.05653167 0.04873933 0.05419893 0.06035338 0.05742505\n",
            " 0.05390113 0.05350407 0.06000596 0.05534048 0.05948481 0.05898849\n",
            " 0.0588644  0.05496824 0.05330554 0.0524866  0.05442228 0.05065019\n",
            " 0.05648203 0.05650685 0.05859142 0.05955926 0.05702799 0.06010522\n",
            " 0.06787274 0.06578817 0.0670538  0.07112368 0.06782311 0.07238932\n",
            " 0.07655847 0.07586361 0.07514393 0.07439944 0.07854378 0.08239031\n",
            " 0.08395374 0.08472305 0.09139865 0.09651082 0.10283899 0.09953842\n",
            " 0.10417907 0.10266528 0.10549434 0.11420488 0.11254219 0.10735557\n",
            " 0.09757792 0.10675998 0.10489875 0.10837304 0.11274072 0.11380782\n",
            " 0.1085899  0.10986622 0.11091292 0.11173448 0.11241297 0.1130252\n",
            " 0.11361916 0.11421675 0.11482356 0.1154374 ]\n",
            "10 day output [[0.11605382]]\n",
            "11 day input [0.04184038 0.05027794 0.04816855 0.04208854 0.04332936 0.04486798\n",
            " 0.04531467 0.04161703 0.04720071 0.04931011 0.05650685 0.05727616\n",
            " 0.06147012 0.06757495 0.07411406 0.06975878 0.0776752  0.07171928\n",
            " 0.07784892 0.07700516 0.07869267 0.07439944 0.07536728 0.07149593\n",
            " 0.07740222 0.07839488 0.07757594 0.07556581 0.07531765 0.07030474\n",
            " 0.07298491 0.06134604 0.06196645 0.06603633 0.0672027  0.0588644\n",
            " 0.05653167 0.04873933 0.05419893 0.06035338 0.05742505 0.05390113\n",
            " 0.05350407 0.06000596 0.05534048 0.05948481 0.05898849 0.0588644\n",
            " 0.05496824 0.05330554 0.0524866  0.05442228 0.05065019 0.05648203\n",
            " 0.05650685 0.05859142 0.05955926 0.05702799 0.06010522 0.06787274\n",
            " 0.06578817 0.0670538  0.07112368 0.06782311 0.07238932 0.07655847\n",
            " 0.07586361 0.07514393 0.07439944 0.07854378 0.08239031 0.08395374\n",
            " 0.08472305 0.09139865 0.09651082 0.10283899 0.09953842 0.10417907\n",
            " 0.10266528 0.10549434 0.11420488 0.11254219 0.10735557 0.09757792\n",
            " 0.10675998 0.10489875 0.10837304 0.11274072 0.11380782 0.1085899\n",
            " 0.10986622 0.11091292 0.11173448 0.11241297 0.1130252  0.11361916\n",
            " 0.11421675 0.11482356 0.1154374  0.11605382]\n",
            "11 day output [[0.11666857]]\n",
            "12 day input [0.05027794 0.04816855 0.04208854 0.04332936 0.04486798 0.04531467\n",
            " 0.04161703 0.04720071 0.04931011 0.05650685 0.05727616 0.06147012\n",
            " 0.06757495 0.07411406 0.06975878 0.0776752  0.07171928 0.07784892\n",
            " 0.07700516 0.07869267 0.07439944 0.07536728 0.07149593 0.07740222\n",
            " 0.07839488 0.07757594 0.07556581 0.07531765 0.07030474 0.07298491\n",
            " 0.06134604 0.06196645 0.06603633 0.0672027  0.0588644  0.05653167\n",
            " 0.04873933 0.05419893 0.06035338 0.05742505 0.05390113 0.05350407\n",
            " 0.06000596 0.05534048 0.05948481 0.05898849 0.0588644  0.05496824\n",
            " 0.05330554 0.0524866  0.05442228 0.05065019 0.05648203 0.05650685\n",
            " 0.05859142 0.05955926 0.05702799 0.06010522 0.06787274 0.06578817\n",
            " 0.0670538  0.07112368 0.06782311 0.07238932 0.07655847 0.07586361\n",
            " 0.07514393 0.07439944 0.07854378 0.08239031 0.08395374 0.08472305\n",
            " 0.09139865 0.09651082 0.10283899 0.09953842 0.10417907 0.10266528\n",
            " 0.10549434 0.11420488 0.11254219 0.10735557 0.09757792 0.10675998\n",
            " 0.10489875 0.10837304 0.11274072 0.11380782 0.1085899  0.10986622\n",
            " 0.11091292 0.11173448 0.11241297 0.1130252  0.11361916 0.11421675\n",
            " 0.11482356 0.1154374  0.11605382 0.11666857]\n",
            "12 day output [[0.11727853]]\n",
            "13 day input [0.04816855 0.04208854 0.04332936 0.04486798 0.04531467 0.04161703\n",
            " 0.04720071 0.04931011 0.05650685 0.05727616 0.06147012 0.06757495\n",
            " 0.07411406 0.06975878 0.0776752  0.07171928 0.07784892 0.07700516\n",
            " 0.07869267 0.07439944 0.07536728 0.07149593 0.07740222 0.07839488\n",
            " 0.07757594 0.07556581 0.07531765 0.07030474 0.07298491 0.06134604\n",
            " 0.06196645 0.06603633 0.0672027  0.0588644  0.05653167 0.04873933\n",
            " 0.05419893 0.06035338 0.05742505 0.05390113 0.05350407 0.06000596\n",
            " 0.05534048 0.05948481 0.05898849 0.0588644  0.05496824 0.05330554\n",
            " 0.0524866  0.05442228 0.05065019 0.05648203 0.05650685 0.05859142\n",
            " 0.05955926 0.05702799 0.06010522 0.06787274 0.06578817 0.0670538\n",
            " 0.07112368 0.06782311 0.07238932 0.07655847 0.07586361 0.07514393\n",
            " 0.07439944 0.07854378 0.08239031 0.08395374 0.08472305 0.09139865\n",
            " 0.09651082 0.10283899 0.09953842 0.10417907 0.10266528 0.10549434\n",
            " 0.11420488 0.11254219 0.10735557 0.09757792 0.10675998 0.10489875\n",
            " 0.10837304 0.11274072 0.11380782 0.1085899  0.10986622 0.11091292\n",
            " 0.11173448 0.11241297 0.1130252  0.11361916 0.11421675 0.11482356\n",
            " 0.1154374  0.11605382 0.11666857 0.11727853]\n",
            "13 day output [[0.11788167]]\n",
            "14 day input [0.04208854 0.04332936 0.04486798 0.04531467 0.04161703 0.04720071\n",
            " 0.04931011 0.05650685 0.05727616 0.06147012 0.06757495 0.07411406\n",
            " 0.06975878 0.0776752  0.07171928 0.07784892 0.07700516 0.07869267\n",
            " 0.07439944 0.07536728 0.07149593 0.07740222 0.07839488 0.07757594\n",
            " 0.07556581 0.07531765 0.07030474 0.07298491 0.06134604 0.06196645\n",
            " 0.06603633 0.0672027  0.0588644  0.05653167 0.04873933 0.05419893\n",
            " 0.06035338 0.05742505 0.05390113 0.05350407 0.06000596 0.05534048\n",
            " 0.05948481 0.05898849 0.0588644  0.05496824 0.05330554 0.0524866\n",
            " 0.05442228 0.05065019 0.05648203 0.05650685 0.05859142 0.05955926\n",
            " 0.05702799 0.06010522 0.06787274 0.06578817 0.0670538  0.07112368\n",
            " 0.06782311 0.07238932 0.07655847 0.07586361 0.07514393 0.07439944\n",
            " 0.07854378 0.08239031 0.08395374 0.08472305 0.09139865 0.09651082\n",
            " 0.10283899 0.09953842 0.10417907 0.10266528 0.10549434 0.11420488\n",
            " 0.11254219 0.10735557 0.09757792 0.10675998 0.10489875 0.10837304\n",
            " 0.11274072 0.11380782 0.1085899  0.10986622 0.11091292 0.11173448\n",
            " 0.11241297 0.1130252  0.11361916 0.11421675 0.11482356 0.1154374\n",
            " 0.11605382 0.11666857 0.11727853 0.11788167]\n",
            "14 day output [[0.11847689]]\n",
            "15 day input [0.04332936 0.04486798 0.04531467 0.04161703 0.04720071 0.04931011\n",
            " 0.05650685 0.05727616 0.06147012 0.06757495 0.07411406 0.06975878\n",
            " 0.0776752  0.07171928 0.07784892 0.07700516 0.07869267 0.07439944\n",
            " 0.07536728 0.07149593 0.07740222 0.07839488 0.07757594 0.07556581\n",
            " 0.07531765 0.07030474 0.07298491 0.06134604 0.06196645 0.06603633\n",
            " 0.0672027  0.0588644  0.05653167 0.04873933 0.05419893 0.06035338\n",
            " 0.05742505 0.05390113 0.05350407 0.06000596 0.05534048 0.05948481\n",
            " 0.05898849 0.0588644  0.05496824 0.05330554 0.0524866  0.05442228\n",
            " 0.05065019 0.05648203 0.05650685 0.05859142 0.05955926 0.05702799\n",
            " 0.06010522 0.06787274 0.06578817 0.0670538  0.07112368 0.06782311\n",
            " 0.07238932 0.07655847 0.07586361 0.07514393 0.07439944 0.07854378\n",
            " 0.08239031 0.08395374 0.08472305 0.09139865 0.09651082 0.10283899\n",
            " 0.09953842 0.10417907 0.10266528 0.10549434 0.11420488 0.11254219\n",
            " 0.10735557 0.09757792 0.10675998 0.10489875 0.10837304 0.11274072\n",
            " 0.11380782 0.1085899  0.10986622 0.11091292 0.11173448 0.11241297\n",
            " 0.1130252  0.11361916 0.11421675 0.11482356 0.1154374  0.11605382\n",
            " 0.11666857 0.11727853 0.11788167 0.11847689]\n",
            "15 day output [[0.11906365]]\n",
            "16 day input [0.04486798 0.04531467 0.04161703 0.04720071 0.04931011 0.05650685\n",
            " 0.05727616 0.06147012 0.06757495 0.07411406 0.06975878 0.0776752\n",
            " 0.07171928 0.07784892 0.07700516 0.07869267 0.07439944 0.07536728\n",
            " 0.07149593 0.07740222 0.07839488 0.07757594 0.07556581 0.07531765\n",
            " 0.07030474 0.07298491 0.06134604 0.06196645 0.06603633 0.0672027\n",
            " 0.0588644  0.05653167 0.04873933 0.05419893 0.06035338 0.05742505\n",
            " 0.05390113 0.05350407 0.06000596 0.05534048 0.05948481 0.05898849\n",
            " 0.0588644  0.05496824 0.05330554 0.0524866  0.05442228 0.05065019\n",
            " 0.05648203 0.05650685 0.05859142 0.05955926 0.05702799 0.06010522\n",
            " 0.06787274 0.06578817 0.0670538  0.07112368 0.06782311 0.07238932\n",
            " 0.07655847 0.07586361 0.07514393 0.07439944 0.07854378 0.08239031\n",
            " 0.08395374 0.08472305 0.09139865 0.09651082 0.10283899 0.09953842\n",
            " 0.10417907 0.10266528 0.10549434 0.11420488 0.11254219 0.10735557\n",
            " 0.09757792 0.10675998 0.10489875 0.10837304 0.11274072 0.11380782\n",
            " 0.1085899  0.10986622 0.11091292 0.11173448 0.11241297 0.1130252\n",
            " 0.11361916 0.11421675 0.11482356 0.1154374  0.11605382 0.11666857\n",
            " 0.11727853 0.11788167 0.11847689 0.11906365]\n",
            "16 day output [[0.11964186]]\n",
            "17 day input [0.04531467 0.04161703 0.04720071 0.04931011 0.05650685 0.05727616\n",
            " 0.06147012 0.06757495 0.07411406 0.06975878 0.0776752  0.07171928\n",
            " 0.07784892 0.07700516 0.07869267 0.07439944 0.07536728 0.07149593\n",
            " 0.07740222 0.07839488 0.07757594 0.07556581 0.07531765 0.07030474\n",
            " 0.07298491 0.06134604 0.06196645 0.06603633 0.0672027  0.0588644\n",
            " 0.05653167 0.04873933 0.05419893 0.06035338 0.05742505 0.05390113\n",
            " 0.05350407 0.06000596 0.05534048 0.05948481 0.05898849 0.0588644\n",
            " 0.05496824 0.05330554 0.0524866  0.05442228 0.05065019 0.05648203\n",
            " 0.05650685 0.05859142 0.05955926 0.05702799 0.06010522 0.06787274\n",
            " 0.06578817 0.0670538  0.07112368 0.06782311 0.07238932 0.07655847\n",
            " 0.07586361 0.07514393 0.07439944 0.07854378 0.08239031 0.08395374\n",
            " 0.08472305 0.09139865 0.09651082 0.10283899 0.09953842 0.10417907\n",
            " 0.10266528 0.10549434 0.11420488 0.11254219 0.10735557 0.09757792\n",
            " 0.10675998 0.10489875 0.10837304 0.11274072 0.11380782 0.1085899\n",
            " 0.10986622 0.11091292 0.11173448 0.11241297 0.1130252  0.11361916\n",
            " 0.11421675 0.11482356 0.1154374  0.11605382 0.11666857 0.11727853\n",
            " 0.11788167 0.11847689 0.11906365 0.11964186]\n",
            "17 day output [[0.12021165]]\n",
            "18 day input [0.04161703 0.04720071 0.04931011 0.05650685 0.05727616 0.06147012\n",
            " 0.06757495 0.07411406 0.06975878 0.0776752  0.07171928 0.07784892\n",
            " 0.07700516 0.07869267 0.07439944 0.07536728 0.07149593 0.07740222\n",
            " 0.07839488 0.07757594 0.07556581 0.07531765 0.07030474 0.07298491\n",
            " 0.06134604 0.06196645 0.06603633 0.0672027  0.0588644  0.05653167\n",
            " 0.04873933 0.05419893 0.06035338 0.05742505 0.05390113 0.05350407\n",
            " 0.06000596 0.05534048 0.05948481 0.05898849 0.0588644  0.05496824\n",
            " 0.05330554 0.0524866  0.05442228 0.05065019 0.05648203 0.05650685\n",
            " 0.05859142 0.05955926 0.05702799 0.06010522 0.06787274 0.06578817\n",
            " 0.0670538  0.07112368 0.06782311 0.07238932 0.07655847 0.07586361\n",
            " 0.07514393 0.07439944 0.07854378 0.08239031 0.08395374 0.08472305\n",
            " 0.09139865 0.09651082 0.10283899 0.09953842 0.10417907 0.10266528\n",
            " 0.10549434 0.11420488 0.11254219 0.10735557 0.09757792 0.10675998\n",
            " 0.10489875 0.10837304 0.11274072 0.11380782 0.1085899  0.10986622\n",
            " 0.11091292 0.11173448 0.11241297 0.1130252  0.11361916 0.11421675\n",
            " 0.11482356 0.1154374  0.11605382 0.11666857 0.11727853 0.11788167\n",
            " 0.11847689 0.11906365 0.11964186 0.12021165]\n",
            "18 day output [[0.12077339]]\n",
            "19 day input [0.04720071 0.04931011 0.05650685 0.05727616 0.06147012 0.06757495\n",
            " 0.07411406 0.06975878 0.0776752  0.07171928 0.07784892 0.07700516\n",
            " 0.07869267 0.07439944 0.07536728 0.07149593 0.07740222 0.07839488\n",
            " 0.07757594 0.07556581 0.07531765 0.07030474 0.07298491 0.06134604\n",
            " 0.06196645 0.06603633 0.0672027  0.0588644  0.05653167 0.04873933\n",
            " 0.05419893 0.06035338 0.05742505 0.05390113 0.05350407 0.06000596\n",
            " 0.05534048 0.05948481 0.05898849 0.0588644  0.05496824 0.05330554\n",
            " 0.0524866  0.05442228 0.05065019 0.05648203 0.05650685 0.05859142\n",
            " 0.05955926 0.05702799 0.06010522 0.06787274 0.06578817 0.0670538\n",
            " 0.07112368 0.06782311 0.07238932 0.07655847 0.07586361 0.07514393\n",
            " 0.07439944 0.07854378 0.08239031 0.08395374 0.08472305 0.09139865\n",
            " 0.09651082 0.10283899 0.09953842 0.10417907 0.10266528 0.10549434\n",
            " 0.11420488 0.11254219 0.10735557 0.09757792 0.10675998 0.10489875\n",
            " 0.10837304 0.11274072 0.11380782 0.1085899  0.10986622 0.11091292\n",
            " 0.11173448 0.11241297 0.1130252  0.11361916 0.11421675 0.11482356\n",
            " 0.1154374  0.11605382 0.11666857 0.11727853 0.11788167 0.11847689\n",
            " 0.11906365 0.11964186 0.12021165 0.12077339]\n",
            "19 day output [[0.12132755]]\n",
            "20 day input [0.04931011 0.05650685 0.05727616 0.06147012 0.06757495 0.07411406\n",
            " 0.06975878 0.0776752  0.07171928 0.07784892 0.07700516 0.07869267\n",
            " 0.07439944 0.07536728 0.07149593 0.07740222 0.07839488 0.07757594\n",
            " 0.07556581 0.07531765 0.07030474 0.07298491 0.06134604 0.06196645\n",
            " 0.06603633 0.0672027  0.0588644  0.05653167 0.04873933 0.05419893\n",
            " 0.06035338 0.05742505 0.05390113 0.05350407 0.06000596 0.05534048\n",
            " 0.05948481 0.05898849 0.0588644  0.05496824 0.05330554 0.0524866\n",
            " 0.05442228 0.05065019 0.05648203 0.05650685 0.05859142 0.05955926\n",
            " 0.05702799 0.06010522 0.06787274 0.06578817 0.0670538  0.07112368\n",
            " 0.06782311 0.07238932 0.07655847 0.07586361 0.07514393 0.07439944\n",
            " 0.07854378 0.08239031 0.08395374 0.08472305 0.09139865 0.09651082\n",
            " 0.10283899 0.09953842 0.10417907 0.10266528 0.10549434 0.11420488\n",
            " 0.11254219 0.10735557 0.09757792 0.10675998 0.10489875 0.10837304\n",
            " 0.11274072 0.11380782 0.1085899  0.10986622 0.11091292 0.11173448\n",
            " 0.11241297 0.1130252  0.11361916 0.11421675 0.11482356 0.1154374\n",
            " 0.11605382 0.11666857 0.11727853 0.11788167 0.11847689 0.11906365\n",
            " 0.11964186 0.12021165 0.12077339 0.12132755]\n",
            "20 day output [[0.12187466]]\n",
            "21 day input [0.05650685 0.05727616 0.06147012 0.06757495 0.07411406 0.06975878\n",
            " 0.0776752  0.07171928 0.07784892 0.07700516 0.07869267 0.07439944\n",
            " 0.07536728 0.07149593 0.07740222 0.07839488 0.07757594 0.07556581\n",
            " 0.07531765 0.07030474 0.07298491 0.06134604 0.06196645 0.06603633\n",
            " 0.0672027  0.0588644  0.05653167 0.04873933 0.05419893 0.06035338\n",
            " 0.05742505 0.05390113 0.05350407 0.06000596 0.05534048 0.05948481\n",
            " 0.05898849 0.0588644  0.05496824 0.05330554 0.0524866  0.05442228\n",
            " 0.05065019 0.05648203 0.05650685 0.05859142 0.05955926 0.05702799\n",
            " 0.06010522 0.06787274 0.06578817 0.0670538  0.07112368 0.06782311\n",
            " 0.07238932 0.07655847 0.07586361 0.07514393 0.07439944 0.07854378\n",
            " 0.08239031 0.08395374 0.08472305 0.09139865 0.09651082 0.10283899\n",
            " 0.09953842 0.10417907 0.10266528 0.10549434 0.11420488 0.11254219\n",
            " 0.10735557 0.09757792 0.10675998 0.10489875 0.10837304 0.11274072\n",
            " 0.11380782 0.1085899  0.10986622 0.11091292 0.11173448 0.11241297\n",
            " 0.1130252  0.11361916 0.11421675 0.11482356 0.1154374  0.11605382\n",
            " 0.11666857 0.11727853 0.11788167 0.11847689 0.11906365 0.11964186\n",
            " 0.12021165 0.12077339 0.12132755 0.12187466]\n",
            "21 day output [[0.12241524]]\n",
            "22 day input [0.05727616 0.06147012 0.06757495 0.07411406 0.06975878 0.0776752\n",
            " 0.07171928 0.07784892 0.07700516 0.07869267 0.07439944 0.07536728\n",
            " 0.07149593 0.07740222 0.07839488 0.07757594 0.07556581 0.07531765\n",
            " 0.07030474 0.07298491 0.06134604 0.06196645 0.06603633 0.0672027\n",
            " 0.0588644  0.05653167 0.04873933 0.05419893 0.06035338 0.05742505\n",
            " 0.05390113 0.05350407 0.06000596 0.05534048 0.05948481 0.05898849\n",
            " 0.0588644  0.05496824 0.05330554 0.0524866  0.05442228 0.05065019\n",
            " 0.05648203 0.05650685 0.05859142 0.05955926 0.05702799 0.06010522\n",
            " 0.06787274 0.06578817 0.0670538  0.07112368 0.06782311 0.07238932\n",
            " 0.07655847 0.07586361 0.07514393 0.07439944 0.07854378 0.08239031\n",
            " 0.08395374 0.08472305 0.09139865 0.09651082 0.10283899 0.09953842\n",
            " 0.10417907 0.10266528 0.10549434 0.11420488 0.11254219 0.10735557\n",
            " 0.09757792 0.10675998 0.10489875 0.10837304 0.11274072 0.11380782\n",
            " 0.1085899  0.10986622 0.11091292 0.11173448 0.11241297 0.1130252\n",
            " 0.11361916 0.11421675 0.11482356 0.1154374  0.11605382 0.11666857\n",
            " 0.11727853 0.11788167 0.11847689 0.11906365 0.11964186 0.12021165\n",
            " 0.12077339 0.12132755 0.12187466 0.12241524]\n",
            "22 day output [[0.12294991]]\n",
            "23 day input [0.06147012 0.06757495 0.07411406 0.06975878 0.0776752  0.07171928\n",
            " 0.07784892 0.07700516 0.07869267 0.07439944 0.07536728 0.07149593\n",
            " 0.07740222 0.07839488 0.07757594 0.07556581 0.07531765 0.07030474\n",
            " 0.07298491 0.06134604 0.06196645 0.06603633 0.0672027  0.0588644\n",
            " 0.05653167 0.04873933 0.05419893 0.06035338 0.05742505 0.05390113\n",
            " 0.05350407 0.06000596 0.05534048 0.05948481 0.05898849 0.0588644\n",
            " 0.05496824 0.05330554 0.0524866  0.05442228 0.05065019 0.05648203\n",
            " 0.05650685 0.05859142 0.05955926 0.05702799 0.06010522 0.06787274\n",
            " 0.06578817 0.0670538  0.07112368 0.06782311 0.07238932 0.07655847\n",
            " 0.07586361 0.07514393 0.07439944 0.07854378 0.08239031 0.08395374\n",
            " 0.08472305 0.09139865 0.09651082 0.10283899 0.09953842 0.10417907\n",
            " 0.10266528 0.10549434 0.11420488 0.11254219 0.10735557 0.09757792\n",
            " 0.10675998 0.10489875 0.10837304 0.11274072 0.11380782 0.1085899\n",
            " 0.10986622 0.11091292 0.11173448 0.11241297 0.1130252  0.11361916\n",
            " 0.11421675 0.11482356 0.1154374  0.11605382 0.11666857 0.11727853\n",
            " 0.11788167 0.11847689 0.11906365 0.11964186 0.12021165 0.12077339\n",
            " 0.12132755 0.12187466 0.12241524 0.12294991]\n",
            "23 day output [[0.12347916]]\n",
            "24 day input [0.06757495 0.07411406 0.06975878 0.0776752  0.07171928 0.07784892\n",
            " 0.07700516 0.07869267 0.07439944 0.07536728 0.07149593 0.07740222\n",
            " 0.07839488 0.07757594 0.07556581 0.07531765 0.07030474 0.07298491\n",
            " 0.06134604 0.06196645 0.06603633 0.0672027  0.0588644  0.05653167\n",
            " 0.04873933 0.05419893 0.06035338 0.05742505 0.05390113 0.05350407\n",
            " 0.06000596 0.05534048 0.05948481 0.05898849 0.0588644  0.05496824\n",
            " 0.05330554 0.0524866  0.05442228 0.05065019 0.05648203 0.05650685\n",
            " 0.05859142 0.05955926 0.05702799 0.06010522 0.06787274 0.06578817\n",
            " 0.0670538  0.07112368 0.06782311 0.07238932 0.07655847 0.07586361\n",
            " 0.07514393 0.07439944 0.07854378 0.08239031 0.08395374 0.08472305\n",
            " 0.09139865 0.09651082 0.10283899 0.09953842 0.10417907 0.10266528\n",
            " 0.10549434 0.11420488 0.11254219 0.10735557 0.09757792 0.10675998\n",
            " 0.10489875 0.10837304 0.11274072 0.11380782 0.1085899  0.10986622\n",
            " 0.11091292 0.11173448 0.11241297 0.1130252  0.11361916 0.11421675\n",
            " 0.11482356 0.1154374  0.11605382 0.11666857 0.11727853 0.11788167\n",
            " 0.11847689 0.11906365 0.11964186 0.12021165 0.12077339 0.12132755\n",
            " 0.12187466 0.12241524 0.12294991 0.12347916]\n",
            "24 day output [[0.12400343]]\n",
            "25 day input [0.07411406 0.06975878 0.0776752  0.07171928 0.07784892 0.07700516\n",
            " 0.07869267 0.07439944 0.07536728 0.07149593 0.07740222 0.07839488\n",
            " 0.07757594 0.07556581 0.07531765 0.07030474 0.07298491 0.06134604\n",
            " 0.06196645 0.06603633 0.0672027  0.0588644  0.05653167 0.04873933\n",
            " 0.05419893 0.06035338 0.05742505 0.05390113 0.05350407 0.06000596\n",
            " 0.05534048 0.05948481 0.05898849 0.0588644  0.05496824 0.05330554\n",
            " 0.0524866  0.05442228 0.05065019 0.05648203 0.05650685 0.05859142\n",
            " 0.05955926 0.05702799 0.06010522 0.06787274 0.06578817 0.0670538\n",
            " 0.07112368 0.06782311 0.07238932 0.07655847 0.07586361 0.07514393\n",
            " 0.07439944 0.07854378 0.08239031 0.08395374 0.08472305 0.09139865\n",
            " 0.09651082 0.10283899 0.09953842 0.10417907 0.10266528 0.10549434\n",
            " 0.11420488 0.11254219 0.10735557 0.09757792 0.10675998 0.10489875\n",
            " 0.10837304 0.11274072 0.11380782 0.1085899  0.10986622 0.11091292\n",
            " 0.11173448 0.11241297 0.1130252  0.11361916 0.11421675 0.11482356\n",
            " 0.1154374  0.11605382 0.11666857 0.11727853 0.11788167 0.11847689\n",
            " 0.11906365 0.11964186 0.12021165 0.12077339 0.12132755 0.12187466\n",
            " 0.12241524 0.12294991 0.12347916 0.12400343]\n",
            "25 day output [[0.12452317]]\n",
            "26 day input [0.06975878 0.0776752  0.07171928 0.07784892 0.07700516 0.07869267\n",
            " 0.07439944 0.07536728 0.07149593 0.07740222 0.07839488 0.07757594\n",
            " 0.07556581 0.07531765 0.07030474 0.07298491 0.06134604 0.06196645\n",
            " 0.06603633 0.0672027  0.0588644  0.05653167 0.04873933 0.05419893\n",
            " 0.06035338 0.05742505 0.05390113 0.05350407 0.06000596 0.05534048\n",
            " 0.05948481 0.05898849 0.0588644  0.05496824 0.05330554 0.0524866\n",
            " 0.05442228 0.05065019 0.05648203 0.05650685 0.05859142 0.05955926\n",
            " 0.05702799 0.06010522 0.06787274 0.06578817 0.0670538  0.07112368\n",
            " 0.06782311 0.07238932 0.07655847 0.07586361 0.07514393 0.07439944\n",
            " 0.07854378 0.08239031 0.08395374 0.08472305 0.09139865 0.09651082\n",
            " 0.10283899 0.09953842 0.10417907 0.10266528 0.10549434 0.11420488\n",
            " 0.11254219 0.10735557 0.09757792 0.10675998 0.10489875 0.10837304\n",
            " 0.11274072 0.11380782 0.1085899  0.10986622 0.11091292 0.11173448\n",
            " 0.11241297 0.1130252  0.11361916 0.11421675 0.11482356 0.1154374\n",
            " 0.11605382 0.11666857 0.11727853 0.11788167 0.11847689 0.11906365\n",
            " 0.11964186 0.12021165 0.12077339 0.12132755 0.12187466 0.12241524\n",
            " 0.12294991 0.12347916 0.12400343 0.12452317]\n",
            "26 day output [[0.12503865]]\n",
            "27 day input [0.0776752  0.07171928 0.07784892 0.07700516 0.07869267 0.07439944\n",
            " 0.07536728 0.07149593 0.07740222 0.07839488 0.07757594 0.07556581\n",
            " 0.07531765 0.07030474 0.07298491 0.06134604 0.06196645 0.06603633\n",
            " 0.0672027  0.0588644  0.05653167 0.04873933 0.05419893 0.06035338\n",
            " 0.05742505 0.05390113 0.05350407 0.06000596 0.05534048 0.05948481\n",
            " 0.05898849 0.0588644  0.05496824 0.05330554 0.0524866  0.05442228\n",
            " 0.05065019 0.05648203 0.05650685 0.05859142 0.05955926 0.05702799\n",
            " 0.06010522 0.06787274 0.06578817 0.0670538  0.07112368 0.06782311\n",
            " 0.07238932 0.07655847 0.07586361 0.07514393 0.07439944 0.07854378\n",
            " 0.08239031 0.08395374 0.08472305 0.09139865 0.09651082 0.10283899\n",
            " 0.09953842 0.10417907 0.10266528 0.10549434 0.11420488 0.11254219\n",
            " 0.10735557 0.09757792 0.10675998 0.10489875 0.10837304 0.11274072\n",
            " 0.11380782 0.1085899  0.10986622 0.11091292 0.11173448 0.11241297\n",
            " 0.1130252  0.11361916 0.11421675 0.11482356 0.1154374  0.11605382\n",
            " 0.11666857 0.11727853 0.11788167 0.11847689 0.11906365 0.11964186\n",
            " 0.12021165 0.12077339 0.12132755 0.12187466 0.12241524 0.12294991\n",
            " 0.12347916 0.12400343 0.12452317 0.12503865]\n",
            "27 day output [[0.12555021]]\n",
            "28 day input [0.07171928 0.07784892 0.07700516 0.07869267 0.07439944 0.07536728\n",
            " 0.07149593 0.07740222 0.07839488 0.07757594 0.07556581 0.07531765\n",
            " 0.07030474 0.07298491 0.06134604 0.06196645 0.06603633 0.0672027\n",
            " 0.0588644  0.05653167 0.04873933 0.05419893 0.06035338 0.05742505\n",
            " 0.05390113 0.05350407 0.06000596 0.05534048 0.05948481 0.05898849\n",
            " 0.0588644  0.05496824 0.05330554 0.0524866  0.05442228 0.05065019\n",
            " 0.05648203 0.05650685 0.05859142 0.05955926 0.05702799 0.06010522\n",
            " 0.06787274 0.06578817 0.0670538  0.07112368 0.06782311 0.07238932\n",
            " 0.07655847 0.07586361 0.07514393 0.07439944 0.07854378 0.08239031\n",
            " 0.08395374 0.08472305 0.09139865 0.09651082 0.10283899 0.09953842\n",
            " 0.10417907 0.10266528 0.10549434 0.11420488 0.11254219 0.10735557\n",
            " 0.09757792 0.10675998 0.10489875 0.10837304 0.11274072 0.11380782\n",
            " 0.1085899  0.10986622 0.11091292 0.11173448 0.11241297 0.1130252\n",
            " 0.11361916 0.11421675 0.11482356 0.1154374  0.11605382 0.11666857\n",
            " 0.11727853 0.11788167 0.11847689 0.11906365 0.11964186 0.12021165\n",
            " 0.12077339 0.12132755 0.12187466 0.12241524 0.12294991 0.12347916\n",
            " 0.12400343 0.12452317 0.12503865 0.12555021]\n",
            "28 day output [[0.12605795]]\n",
            "29 day input [0.07784892 0.07700516 0.07869267 0.07439944 0.07536728 0.07149593\n",
            " 0.07740222 0.07839488 0.07757594 0.07556581 0.07531765 0.07030474\n",
            " 0.07298491 0.06134604 0.06196645 0.06603633 0.0672027  0.0588644\n",
            " 0.05653167 0.04873933 0.05419893 0.06035338 0.05742505 0.05390113\n",
            " 0.05350407 0.06000596 0.05534048 0.05948481 0.05898849 0.0588644\n",
            " 0.05496824 0.05330554 0.0524866  0.05442228 0.05065019 0.05648203\n",
            " 0.05650685 0.05859142 0.05955926 0.05702799 0.06010522 0.06787274\n",
            " 0.06578817 0.0670538  0.07112368 0.06782311 0.07238932 0.07655847\n",
            " 0.07586361 0.07514393 0.07439944 0.07854378 0.08239031 0.08395374\n",
            " 0.08472305 0.09139865 0.09651082 0.10283899 0.09953842 0.10417907\n",
            " 0.10266528 0.10549434 0.11420488 0.11254219 0.10735557 0.09757792\n",
            " 0.10675998 0.10489875 0.10837304 0.11274072 0.11380782 0.1085899\n",
            " 0.10986622 0.11091292 0.11173448 0.11241297 0.1130252  0.11361916\n",
            " 0.11421675 0.11482356 0.1154374  0.11605382 0.11666857 0.11727853\n",
            " 0.11788167 0.11847689 0.11906365 0.11964186 0.12021165 0.12077339\n",
            " 0.12132755 0.12187466 0.12241524 0.12294991 0.12347916 0.12400343\n",
            " 0.12452317 0.12503865 0.12555021 0.12605795]\n",
            "29 day output [[0.12656207]]\n",
            "[[0.10858990252017975], [0.10986621677875519], [0.11091291904449463], [0.11173447966575623], [0.11241297423839569], [0.11302520334720612], [0.11361915618181229], [0.11421675235033035], [0.11482355743646622], [0.11543740332126617], [0.11605381965637207], [0.11666857451200485], [0.11727853119373322], [0.1178816705942154], [0.11847689002752304], [0.11906365305185318], [0.11964185535907745], [0.1202116534113884], [0.12077338993549347], [0.12132754921913147], [0.12187466025352478], [0.12241524457931519], [0.12294990569353104], [0.12347915768623352], [0.12400343269109726], [0.12452317029237747], [0.12503865361213684], [0.12555021047592163], [0.1260579526424408], [0.12656207382678986]]\n"
          ],
          "name": "stdout"
        }
      ]
    },
    {
      "cell_type": "code",
      "metadata": {
        "id": "rUfpNFFRjnC4"
      },
      "source": [
        "day_new=np.arange(1,101)\n",
        "day_pred=np.arange(101,131)"
      ],
      "execution_count": 36,
      "outputs": []
    },
    {
      "cell_type": "code",
      "metadata": {
        "id": "NvkDIhXwjsjp"
      },
      "source": [
        "import matplotlib.pyplot as plt"
      ],
      "execution_count": 37,
      "outputs": []
    },
    {
      "cell_type": "code",
      "metadata": {
        "colab": {
          "base_uri": "https://localhost:8080/"
        },
        "id": "AwIq05jejvLd",
        "outputId": "aacfe7ba-cc16-44d2-b5f2-3ab08a9283b4"
      },
      "source": [
        "len(df1)"
      ],
      "execution_count": 38,
      "outputs": [
        {
          "output_type": "execute_result",
          "data": {
            "text/plain": [
              "1257"
            ]
          },
          "metadata": {
            "tags": []
          },
          "execution_count": 38
        }
      ]
    },
    {
      "cell_type": "code",
      "metadata": {
        "colab": {
          "base_uri": "https://localhost:8080/",
          "height": 282
        },
        "id": "XuAY3lV9jxwV",
        "outputId": "82ac87fa-2d2f-4ac6-c6eb-851aaa7d2a39"
      },
      "source": [
        "plt.plot(day_new,scaler.inverse_transform(df1[1157:]))\n",
        "plt.plot(day_pred,scaler.inverse_transform(lst_output))"
      ],
      "execution_count": 39,
      "outputs": [
        {
          "output_type": "execute_result",
          "data": {
            "text/plain": [
              "[<matplotlib.lines.Line2D at 0x7ff66ddfe590>]"
            ]
          },
          "metadata": {
            "tags": []
          },
          "execution_count": 39
        },
        {
          "output_type": "display_data",
          "data": {
            "image/png": "[encoded data removed]",
            "text/plain": [
              "<Figure size 432x288 with 1 Axes>"
            ]
          },
          "metadata": {
            "tags": [],
            "needs_background": "light"
          }
        }
      ]
    }
  ]
}